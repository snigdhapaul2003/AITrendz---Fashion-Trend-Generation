{
  "cells": [
    {
      "cell_type": "markdown",
      "metadata": {
        "id": "B36hiH-mLREY"
      },
      "source": [
        "# Image Classification with Euclidean and Hyperbolic Neural Network\n",
        "\n",
        "Welcome to our first notebook for the ECCV 2022 Tutorial \"[Hyperbolic Representation Learning for Computer Vision](https://sites.google.com/view/hyperbolic-tutorial-eccv22)\"!\n",
        "\n",
        "**Open notebook:**\n",
        "[![View on Github](https://img.shields.io/static/v1.svg?logo=github&label=Repo&message=View%20On%20Github&color=lightgrey)](https://github.com/MinaGhadimiAtigh/hyperbolic_representation_learning/blob/main/notebooks/1_Simple_NN_in_Euclidean_and_Hyperbolic_space.ipynb)\n",
        "[![Open In Collab](https://colab.research.google.com/assets/colab-badge.svg)](https://colab.research.google.com/github/MinaGhadimiAtigh/hyperbolic_representation_learning/blob/main/notebooks/1_Simple_NN_in_Euclidean_and_Hyperbolic_space.ipynb)  \n",
        "\n",
        "**Author:** Mina Ghadimi Atigh"
      ]
    },
    {
      "cell_type": "markdown",
      "metadata": {
        "id": "QxU-tJrfUs79"
      },
      "source": [
        "In this notebook, you will perform a simple image classification task using two Neural Networks, one in Euclidean space and one in the hyperbolic space. The main goal is to go through the training and testing process in Euclidean and hyperbolic spaces and see the similarities and the differences.\n",
        "\n",
        "If you prefer working with standard python scripts, feel free to convert this notebook into a python script. To open this notebook on Google Colab, use the button above. Note that you need to copy this notebook into your own Google Drive to save the notebook and trained models. Otherwise, your progress will be lost when you close the browser tab.\n"
      ]
    },
    {
      "cell_type": "markdown",
      "metadata": {
        "id": "wbGnvJGLVlSe"
      },
      "source": [
        "Let's start with importing the libraries and setting manual seed using `set_seed`."
      ]
    },
    {
      "cell_type": "code",
      "execution_count": 3,
      "metadata": {
        "id": "6lH1r7TrUTDI"
      },
      "outputs": [],
      "source": [
        "## standard libraries\n",
        "import numpy as np\n",
        "import warnings\n",
        "from IPython.display import clear_output\n",
        "\n",
        "## Imports for plotting\n",
        "import matplotlib.pyplot as plt\n",
        "\n",
        "## PyTorch\n",
        "import torch\n",
        "import torch.nn as nn\n",
        "import torch.nn.functional as F\n",
        "import torch.optim as optim\n",
        "\n",
        "## PyTorch Torchvision\n",
        "import torchvision\n",
        "\n",
        "warnings.filterwarnings('ignore')"
      ]
    },
    {
      "cell_type": "code",
      "execution_count": 4,
      "metadata": {
        "colab": {
          "base_uri": "https://localhost:8080/"
        },
        "id": "h5YtvanB-qeK",
        "outputId": "df1c755b-9521-418e-9df8-e3b15cf9c1b2"
      },
      "outputs": [
        {
          "output_type": "stream",
          "name": "stdout",
          "text": [
            "Using device cpu\n"
          ]
        }
      ],
      "source": [
        "# Function for setting the seed\n",
        "def set_seed(seed):\n",
        "    np.random.seed(seed)\n",
        "    torch.manual_seed(seed)\n",
        "    if torch.cuda.is_available():\n",
        "        torch.cuda.manual_seed(seed)\n",
        "        torch.cuda.manual_seed_all(seed)\n",
        "set_seed(42)\n",
        "\n",
        "# Ensure that all operations are deterministic on GPU (if used) for reproducibility\n",
        "torch.backends.cudnn.determinstic = True\n",
        "torch.backends.cudnn.benchmark = False\n",
        "\n",
        "# Fetching the device that will be used throughout this notebook\n",
        "device = torch.device(\"cpu\") if not torch.cuda.is_available() else torch.device(\"cuda:0\")\n",
        "print(\"Using device\", device)"
      ]
    },
    {
      "cell_type": "markdown",
      "metadata": {
        "id": "NDEwear4N7MA"
      },
      "source": [
        "For the Hyperbolic layers and functions, we're going to use geoopt library in this notebook."
      ]
    },
    {
      "cell_type": "code",
      "execution_count": 1,
      "metadata": {
        "id": "QQ_t736yOfaK",
        "outputId": "914d71b4-7b71-4377-9374-2e15271ada33",
        "colab": {
          "base_uri": "https://localhost:8080/"
        }
      },
      "outputs": [
        {
          "output_type": "stream",
          "name": "stdout",
          "text": [
            "  Installing build dependencies ... \u001b[?25l\u001b[?25hdone\n",
            "  Getting requirements to build wheel ... \u001b[?25l\u001b[?25hdone\n",
            "  Preparing metadata (pyproject.toml) ... \u001b[?25l\u001b[?25hdone\n",
            "\u001b[2K   \u001b[90m━━━━━━━━━━━━━━━━━━━━━━━━━━━━━━━━━━━━━━━━\u001b[0m \u001b[32m363.4/363.4 MB\u001b[0m \u001b[31m3.5 MB/s\u001b[0m eta \u001b[36m0:00:00\u001b[0m\n",
            "\u001b[2K   \u001b[90m━━━━━━━━━━━━━━━━━━━━━━━━━━━━━━━━━━━━━━━━\u001b[0m \u001b[32m13.8/13.8 MB\u001b[0m \u001b[31m55.2 MB/s\u001b[0m eta \u001b[36m0:00:00\u001b[0m\n",
            "\u001b[2K   \u001b[90m━━━━━━━━━━━━━━━━━━━━━━━━━━━━━━━━━━━━━━━━\u001b[0m \u001b[32m24.6/24.6 MB\u001b[0m \u001b[31m42.8 MB/s\u001b[0m eta \u001b[36m0:00:00\u001b[0m\n",
            "\u001b[2K   \u001b[90m━━━━━━━━━━━━━━━━━━━━━━━━━━━━━━━━━━━━━━━━\u001b[0m \u001b[32m883.7/883.7 kB\u001b[0m \u001b[31m18.1 MB/s\u001b[0m eta \u001b[36m0:00:00\u001b[0m\n",
            "\u001b[2K   \u001b[90m━━━━━━━━━━━━━━━━━━━━━━━━━━━━━━━━━━━━━━━━\u001b[0m \u001b[32m664.8/664.8 MB\u001b[0m \u001b[31m1.2 MB/s\u001b[0m eta \u001b[36m0:00:00\u001b[0m\n",
            "\u001b[2K   \u001b[90m━━━━━━━━━━━━━━━━━━━━━━━━━━━━━━━━━━━━━━━━\u001b[0m \u001b[32m211.5/211.5 MB\u001b[0m \u001b[31m5.2 MB/s\u001b[0m eta \u001b[36m0:00:00\u001b[0m\n",
            "\u001b[2K   \u001b[90m━━━━━━━━━━━━━━━━━━━━━━━━━━━━━━━━━━━━━━━━\u001b[0m \u001b[32m56.3/56.3 MB\u001b[0m \u001b[31m13.8 MB/s\u001b[0m eta \u001b[36m0:00:00\u001b[0m\n",
            "\u001b[2K   \u001b[90m━━━━━━━━━━━━━━━━━━━━━━━━━━━━━━━━━━━━━━━━\u001b[0m \u001b[32m127.9/127.9 MB\u001b[0m \u001b[31m7.8 MB/s\u001b[0m eta \u001b[36m0:00:00\u001b[0m\n",
            "\u001b[2K   \u001b[90m━━━━━━━━━━━━━━━━━━━━━━━━━━━━━━━━━━━━━━━━\u001b[0m \u001b[32m207.5/207.5 MB\u001b[0m \u001b[31m6.3 MB/s\u001b[0m eta \u001b[36m0:00:00\u001b[0m\n",
            "\u001b[2K   \u001b[90m━━━━━━━━━━━━━━━━━━━━━━━━━━━━━━━━━━━━━━━━\u001b[0m \u001b[32m21.1/21.1 MB\u001b[0m \u001b[31m72.5 MB/s\u001b[0m eta \u001b[36m0:00:00\u001b[0m\n",
            "\u001b[?25h  Building wheel for geoopt (pyproject.toml) ... \u001b[?25l\u001b[?25hdone\n"
          ]
        }
      ],
      "source": [
        "!pip install -q git+https://github.com/geoopt/geoopt.git\n",
        "! [ ! -f mobius_linear_example.py ] && wget -q https://raw.githubusercontent.com/geoopt/geoopt/master/examples/mobius_linear_example.py"
      ]
    },
    {
      "cell_type": "code",
      "execution_count": 2,
      "metadata": {
        "id": "E5Zt53SnOhGJ"
      },
      "outputs": [],
      "source": [
        "import geoopt\n",
        "from mobius_linear_example import MobiusLinear"
      ]
    },
    {
      "cell_type": "markdown",
      "metadata": {
        "id": "Ce1Crta0OrLk"
      },
      "source": [
        "Here, we define the paths which will be used in this notebook."
      ]
    },
    {
      "cell_type": "code",
      "execution_count": 5,
      "metadata": {
        "id": "r7Wvksp8eAh7"
      },
      "outputs": [],
      "source": [
        "DATA_PATH = './data'"
      ]
    },
    {
      "cell_type": "markdown",
      "metadata": {
        "id": "_fvFgVAaWFtG"
      },
      "source": [
        "Let's start with setting up the dataset. In this notebook, you will work with `MNIST` dataset. MNIST consists of 70000 tiny (28*28) gray scale images of handwritten digits, from zero to nine. The goal is to recognize the digit corresponding to each image."
      ]
    },
    {
      "cell_type": "code",
      "execution_count": 6,
      "metadata": {
        "colab": {
          "base_uri": "https://localhost:8080/"
        },
        "id": "lD2bxB21cPen",
        "outputId": "53b866c9-33f2-42ca-9d1f-d9bf80c086db"
      },
      "outputs": [
        {
          "output_type": "stream",
          "name": "stdout",
          "text": [
            "Downloading http://yann.lecun.com/exdb/mnist/train-images-idx3-ubyte.gz\n",
            "Failed to download (trying next):\n",
            "HTTP Error 404: Not Found\n",
            "\n",
            "Downloading https://ossci-datasets.s3.amazonaws.com/mnist/train-images-idx3-ubyte.gz\n",
            "Downloading https://ossci-datasets.s3.amazonaws.com/mnist/train-images-idx3-ubyte.gz to ./data/MNIST/raw/train-images-idx3-ubyte.gz\n"
          ]
        },
        {
          "output_type": "stream",
          "name": "stderr",
          "text": [
            "100%|██████████| 9.91M/9.91M [00:01<00:00, 5.13MB/s]\n"
          ]
        },
        {
          "output_type": "stream",
          "name": "stdout",
          "text": [
            "Extracting ./data/MNIST/raw/train-images-idx3-ubyte.gz to ./data/MNIST/raw\n",
            "\n",
            "Downloading http://yann.lecun.com/exdb/mnist/train-labels-idx1-ubyte.gz\n",
            "Failed to download (trying next):\n",
            "HTTP Error 404: Not Found\n",
            "\n",
            "Downloading https://ossci-datasets.s3.amazonaws.com/mnist/train-labels-idx1-ubyte.gz\n",
            "Downloading https://ossci-datasets.s3.amazonaws.com/mnist/train-labels-idx1-ubyte.gz to ./data/MNIST/raw/train-labels-idx1-ubyte.gz\n"
          ]
        },
        {
          "output_type": "stream",
          "name": "stderr",
          "text": [
            "100%|██████████| 28.9k/28.9k [00:00<00:00, 148kB/s]\n"
          ]
        },
        {
          "output_type": "stream",
          "name": "stdout",
          "text": [
            "Extracting ./data/MNIST/raw/train-labels-idx1-ubyte.gz to ./data/MNIST/raw\n",
            "\n",
            "Downloading http://yann.lecun.com/exdb/mnist/t10k-images-idx3-ubyte.gz\n",
            "Failed to download (trying next):\n",
            "HTTP Error 404: Not Found\n",
            "\n",
            "Downloading https://ossci-datasets.s3.amazonaws.com/mnist/t10k-images-idx3-ubyte.gz\n",
            "Downloading https://ossci-datasets.s3.amazonaws.com/mnist/t10k-images-idx3-ubyte.gz to ./data/MNIST/raw/t10k-images-idx3-ubyte.gz\n"
          ]
        },
        {
          "output_type": "stream",
          "name": "stderr",
          "text": [
            "100%|██████████| 1.65M/1.65M [00:01<00:00, 1.43MB/s]\n"
          ]
        },
        {
          "output_type": "stream",
          "name": "stdout",
          "text": [
            "Extracting ./data/MNIST/raw/t10k-images-idx3-ubyte.gz to ./data/MNIST/raw\n",
            "\n",
            "Downloading http://yann.lecun.com/exdb/mnist/t10k-labels-idx1-ubyte.gz\n",
            "Failed to download (trying next):\n",
            "HTTP Error 404: Not Found\n",
            "\n",
            "Downloading https://ossci-datasets.s3.amazonaws.com/mnist/t10k-labels-idx1-ubyte.gz\n",
            "Downloading https://ossci-datasets.s3.amazonaws.com/mnist/t10k-labels-idx1-ubyte.gz to ./data/MNIST/raw/t10k-labels-idx1-ubyte.gz\n"
          ]
        },
        {
          "output_type": "stream",
          "name": "stderr",
          "text": [
            "100%|██████████| 4.54k/4.54k [00:00<00:00, 5.44MB/s]\n"
          ]
        },
        {
          "output_type": "stream",
          "name": "stdout",
          "text": [
            "Extracting ./data/MNIST/raw/t10k-labels-idx1-ubyte.gz to ./data/MNIST/raw\n",
            "\n"
          ]
        }
      ],
      "source": [
        "transform=torchvision.transforms.Compose([\n",
        "    torchvision.transforms.ToTensor(),\n",
        "    torchvision.transforms.Normalize((0.1307,), (0.3081,))\n",
        "    ])\n",
        "\n",
        "# Train dataset - downloading the training dataset. Training dataset is splitted into train and val parts.\n",
        "main_trainset = torchvision.datasets.MNIST(root=DATA_PATH, train = True, download=True, transform=transform)\n",
        "trainset, valset = torch.utils.data.random_split(main_trainset, [10000, 50000], generator=torch.Generator().manual_seed(42))\n",
        "\n",
        "# Test dataset - downloading and loading the testing dataset.\n",
        "testset = torchvision.datasets.MNIST(root=DATA_PATH, train=False, download=True, transform=transform)\n",
        "testset_small, _ = torch.utils.data.random_split(main_trainset, [30000, 30000], generator=torch.Generator().manual_seed(42))\n",
        "\n",
        "# Create dataloaders for the train, val and test sets\n",
        "batch_size = 8\n",
        "trainloader = torch.utils.data.DataLoader(trainset, batch_size=batch_size, shuffle=True, num_workers=2, pin_memory=True)\n",
        "valloader = torch.utils.data.DataLoader(valset, batch_size=batch_size, shuffle=True, num_workers=2)\n",
        "testloader = torch.utils.data.DataLoader(testset_small, batch_size=batch_size, shuffle=False, num_workers=2)"
      ]
    },
    {
      "cell_type": "markdown",
      "metadata": {
        "id": "VwNgF3uqgLu_"
      },
      "source": [
        "Before starting the main task, let's visualize some of the images from the dataset."
      ]
    },
    {
      "cell_type": "code",
      "execution_count": 7,
      "metadata": {
        "colab": {
          "base_uri": "https://localhost:8080/",
          "height": 165
        },
        "id": "jKnbsT8adh9O",
        "outputId": "ea89737c-ab11-4b77-db65-f849a4288ea8"
      },
      "outputs": [
        {
          "output_type": "stream",
          "name": "stderr",
          "text": [
            "WARNING:matplotlib.image:Clipping input data to the valid range for imshow with RGB data ([0..1] for floats or [0..255] for integers). Got range [-0.42421296..2.8214867].\n"
          ]
        },
        {
          "output_type": "display_data",
          "data": {
            "text/plain": [
              "<Figure size 640x480 with 1 Axes>"
            ],
            "image/png": "[encoded data removed]"
          },
          "metadata": {}
        },
        {
          "output_type": "stream",
          "name": "stdout",
          "text": [
            "     2    2    3    1    4    0    7    8   \n"
          ]
        }
      ],
      "source": [
        "# Extract class names\n",
        "classes = torchvision.datasets.MNIST.classes\n",
        "# Class names are like 0 - zero\n",
        "classes_num = [c.split('-')[0] for c in classes]\n",
        "\n",
        "# functions to show an image\n",
        "def imshow(img):\n",
        "    # What should I do here to unnormalize?\n",
        "    npimg = img.numpy()\n",
        "    plt.imshow(np.transpose(npimg, (1, 2, 0)))\n",
        "    plt.show()\n",
        "\n",
        "\n",
        "# get some random training images\n",
        "dataiter = iter(trainloader)\n",
        "images, labels = next(dataiter)\n",
        "\n",
        "# show images\n",
        "imshow(torchvision.utils.make_grid(images))\n",
        "print('     '+' '.join(f'{classes_num[labels[j]]:4s}' for j in range(batch_size)))"
      ]
    },
    {
      "cell_type": "markdown",
      "metadata": {
        "id": "LuxtGTdggwxr"
      },
      "source": [
        "## Implementing Neural Networks\n",
        "\n",
        "### Euclidean Neural Network\n",
        "\n",
        "Let's start with defining a simple Euclidean neural network. Our simple neural network consists of three fully connected layers. To create the fully connected layers in Euclidean space, `nn.Linear` in used."
      ]
    },
    {
      "cell_type": "code",
      "execution_count": 8,
      "metadata": {
        "id": "VpibIkf7g0jP"
      },
      "outputs": [],
      "source": [
        "class EuclideanNet(nn.Module):\n",
        "    def __init__(self):\n",
        "        super().__init__()\n",
        "        self.fc1 = nn.Linear(28 * 28, 750)\n",
        "        self.relu1 = nn.ReLU()\n",
        "        self.fc11 = nn.Linear(750, 20)\n",
        "        self.relu11 = nn.ReLU()\n",
        "        self.fc2 = nn.Linear(20, 10)\n",
        "\n",
        "    def forward(self, x):\n",
        "        out_x = self.fc1(x)\n",
        "        out_x = self.relu1(out_x)\n",
        "        out_x = self.fc11(out_x)\n",
        "        out_x = self.relu11(out_x)\n",
        "        out_x = self.fc2(out_x)\n",
        "        return out_x\n",
        "\n",
        "euclidean_net = EuclideanNet().to(device)"
      ]
    },
    {
      "cell_type": "markdown",
      "metadata": {
        "id": "MWoZ_HJlzhAh"
      },
      "source": [
        "### Hyperbolic Neural Network\n",
        "\n",
        "Next step is to create a neural network in hyperbolic space. This network consists of three fully connected layer, similar to the netowrk defined in the Euclidean space. To define a fully connected layer in the hyperbolic space, `MobiusLinear` is used."
      ]
    },
    {
      "cell_type": "code",
      "execution_count": 9,
      "metadata": {
        "id": "2mgCnV3buXNb"
      },
      "outputs": [],
      "source": [
        "def hyperbolic_ReLU(hyperbolic_input, manifold):\n",
        "    euclidean_input = manifold.logmap0(hyperbolic_input)\n",
        "    euclidean_output = F.relu(euclidean_input)\n",
        "    hyperbolic_output = manifold.expmap0(euclidean_output)\n",
        "    return hyperbolic_output"
      ]
    },
    {
      "cell_type": "code",
      "execution_count": 14,
      "metadata": {
        "id": "JcZZwhLgdZ4t"
      },
      "outputs": [],
      "source": [
        "class HyperbolicNet(nn.Module):\n",
        "    def __init__(self):\n",
        "        super().__init__()\n",
        "        self.fc1 = MobiusLinear(2048, 750)\n",
        "        self.fc11 = MobiusLinear(750, 20)\n",
        "        self.fc2 = MobiusLinear(20, 10)\n",
        "\n",
        "    def forward(self, x, manifold):\n",
        "        out_x = self.fc1(x)\n",
        "        out_x = hyperbolic_ReLU(out_x, manifold)\n",
        "        out_x = self.fc11(out_x)\n",
        "        out_x = hyperbolic_ReLU(out_x, manifold)\n",
        "        out_x = self.fc2(out_x)\n",
        "        return out_x\n",
        "\n",
        "hyperbolic_net = HyperbolicNet().to(device)"
      ]
    },
    {
      "cell_type": "markdown",
      "metadata": {
        "id": "Yg1n29ZG0Opo"
      },
      "source": [
        "Here you can see the overview of both Euclidean and hyperbolic Neural Networks. The main structure of the networks are similar, one consisting of *Euclidean* Linear layers and the other one of *hyperbolic* layers.\n",
        "\n",
        "As the Hyperbolic Net consists of hyperbolic layers, the input must be in hyperbolic space, too. Therefore, `Exp map` which stands for `Exponential Map` is used to project the input of the Neural Network (flatten image) from Euclidean space to the hyperbolic space. `Exp map` will be performed later in the training and testing loop."
      ]
    },
    {
      "cell_type": "markdown",
      "metadata": {
        "id": "tFY57VLbzljy"
      },
      "source": [
        "<center width=\"90%\"><img src=\"https://github.com/MinaGhadimiAtigh/hyperbolic_representation_learning/blob/main/notebooks/figures/1_net.png?raw=1\"></center>"
      ]
    },
    {
      "cell_type": "markdown",
      "metadata": {
        "id": "svfLDiPdhyeF"
      },
      "source": [
        "### Optimizer and Loss function\n",
        "\n",
        "Next step is to define the optimizer and loss function. For training a neural network with hyperbolic layers, the optimizer should be in hyperbolic space, too. Here we use `SGD` and `Riemannian SGD` as the optimizers."
      ]
    },
    {
      "cell_type": "code",
      "execution_count": 15,
      "metadata": {
        "id": "X-lucVWXh3bA"
      },
      "outputs": [],
      "source": [
        "criterion = nn.CrossEntropyLoss()\n",
        "euclidean_optimizer = optim.SGD(euclidean_net.parameters(), lr=0.001, momentum=0.9)\n",
        "hyperbolic_optimizer = geoopt.optim.RiemannianSGD(list(hyperbolic_net.parameters()), lr=0.001, momentum=0.9)"
      ]
    },
    {
      "cell_type": "markdown",
      "metadata": {
        "id": "-LGZoVGyh4K8"
      },
      "source": [
        "Finally, it's time to implement the training loop."
      ]
    },
    {
      "cell_type": "markdown",
      "metadata": {
        "id": "3S-tKiAgT3Vy"
      },
      "source": [
        "### Euclidean training loop\n",
        "\n",
        "First, we start with training the Euclidean neural network."
      ]
    },
    {
      "cell_type": "code",
      "execution_count": 16,
      "metadata": {
        "colab": {
          "base_uri": "https://localhost:8080/",
          "height": 356
        },
        "id": "hb4EkcIqiLob",
        "outputId": "19b0a4f3-0992-477c-f8af-133a880eac31",
        "scrolled": false
      },
      "outputs": [
        {
          "output_type": "error",
          "ename": "KeyboardInterrupt",
          "evalue": "",
          "traceback": [
            "\u001b[0;31m---------------------------------------------------------------------------\u001b[0m",
            "\u001b[0;31mKeyboardInterrupt\u001b[0m                         Traceback (most recent call last)",
            "\u001b[0;32m<ipython-input-16-94993d8dcf57>\u001b[0m in \u001b[0;36m<cell line: 0>\u001b[0;34m()\u001b[0m\n\u001b[1;32m     16\u001b[0m         \u001b[0mloss\u001b[0m \u001b[0;34m=\u001b[0m \u001b[0mcriterion\u001b[0m\u001b[0;34m(\u001b[0m\u001b[0moutputs\u001b[0m\u001b[0;34m,\u001b[0m \u001b[0mlabels\u001b[0m\u001b[0;34m)\u001b[0m\u001b[0;34m\u001b[0m\u001b[0;34m\u001b[0m\u001b[0m\n\u001b[1;32m     17\u001b[0m         \u001b[0mloss\u001b[0m\u001b[0;34m.\u001b[0m\u001b[0mbackward\u001b[0m\u001b[0;34m(\u001b[0m\u001b[0;34m)\u001b[0m\u001b[0;34m\u001b[0m\u001b[0;34m\u001b[0m\u001b[0m\n\u001b[0;32m---> 18\u001b[0;31m         \u001b[0meuclidean_optimizer\u001b[0m\u001b[0;34m.\u001b[0m\u001b[0mstep\u001b[0m\u001b[0;34m(\u001b[0m\u001b[0;34m)\u001b[0m\u001b[0;34m\u001b[0m\u001b[0;34m\u001b[0m\u001b[0m\n\u001b[0m\u001b[1;32m     19\u001b[0m \u001b[0;34m\u001b[0m\u001b[0m\n\u001b[1;32m     20\u001b[0m         \u001b[0;31m# print statistics\u001b[0m\u001b[0;34m\u001b[0m\u001b[0;34m\u001b[0m\u001b[0m\n",
            "\u001b[0;32m/usr/local/lib/python3.11/dist-packages/torch/optim/optimizer.py\u001b[0m in \u001b[0;36mwrapper\u001b[0;34m(*args, **kwargs)\u001b[0m\n\u001b[1;32m    485\u001b[0m                             )\n\u001b[1;32m    486\u001b[0m \u001b[0;34m\u001b[0m\u001b[0m\n\u001b[0;32m--> 487\u001b[0;31m                 \u001b[0mout\u001b[0m \u001b[0;34m=\u001b[0m \u001b[0mfunc\u001b[0m\u001b[0;34m(\u001b[0m\u001b[0;34m*\u001b[0m\u001b[0margs\u001b[0m\u001b[0;34m,\u001b[0m \u001b[0;34m**\u001b[0m\u001b[0mkwargs\u001b[0m\u001b[0;34m)\u001b[0m\u001b[0;34m\u001b[0m\u001b[0;34m\u001b[0m\u001b[0m\n\u001b[0m\u001b[1;32m    488\u001b[0m                 \u001b[0mself\u001b[0m\u001b[0;34m.\u001b[0m\u001b[0m_optimizer_step_code\u001b[0m\u001b[0;34m(\u001b[0m\u001b[0;34m)\u001b[0m\u001b[0;34m\u001b[0m\u001b[0;34m\u001b[0m\u001b[0m\n\u001b[1;32m    489\u001b[0m \u001b[0;34m\u001b[0m\u001b[0m\n",
            "\u001b[0;32m/usr/local/lib/python3.11/dist-packages/torch/optim/optimizer.py\u001b[0m in \u001b[0;36m_use_grad\u001b[0;34m(self, *args, **kwargs)\u001b[0m\n\u001b[1;32m     89\u001b[0m             \u001b[0mtorch\u001b[0m\u001b[0;34m.\u001b[0m\u001b[0mset_grad_enabled\u001b[0m\u001b[0;34m(\u001b[0m\u001b[0mself\u001b[0m\u001b[0;34m.\u001b[0m\u001b[0mdefaults\u001b[0m\u001b[0;34m[\u001b[0m\u001b[0;34m\"differentiable\"\u001b[0m\u001b[0;34m]\u001b[0m\u001b[0;34m)\u001b[0m\u001b[0;34m\u001b[0m\u001b[0;34m\u001b[0m\u001b[0m\n\u001b[1;32m     90\u001b[0m             \u001b[0mtorch\u001b[0m\u001b[0;34m.\u001b[0m\u001b[0m_dynamo\u001b[0m\u001b[0;34m.\u001b[0m\u001b[0mgraph_break\u001b[0m\u001b[0;34m(\u001b[0m\u001b[0;34m)\u001b[0m\u001b[0;34m\u001b[0m\u001b[0;34m\u001b[0m\u001b[0m\n\u001b[0;32m---> 91\u001b[0;31m             \u001b[0mret\u001b[0m \u001b[0;34m=\u001b[0m \u001b[0mfunc\u001b[0m\u001b[0;34m(\u001b[0m\u001b[0mself\u001b[0m\u001b[0;34m,\u001b[0m \u001b[0;34m*\u001b[0m\u001b[0margs\u001b[0m\u001b[0;34m,\u001b[0m \u001b[0;34m**\u001b[0m\u001b[0mkwargs\u001b[0m\u001b[0;34m)\u001b[0m\u001b[0;34m\u001b[0m\u001b[0;34m\u001b[0m\u001b[0m\n\u001b[0m\u001b[1;32m     92\u001b[0m         \u001b[0;32mfinally\u001b[0m\u001b[0;34m:\u001b[0m\u001b[0;34m\u001b[0m\u001b[0;34m\u001b[0m\u001b[0m\n\u001b[1;32m     93\u001b[0m             \u001b[0mtorch\u001b[0m\u001b[0;34m.\u001b[0m\u001b[0m_dynamo\u001b[0m\u001b[0;34m.\u001b[0m\u001b[0mgraph_break\u001b[0m\u001b[0;34m(\u001b[0m\u001b[0;34m)\u001b[0m\u001b[0;34m\u001b[0m\u001b[0;34m\u001b[0m\u001b[0m\n",
            "\u001b[0;32m/usr/local/lib/python3.11/dist-packages/torch/optim/sgd.py\u001b[0m in \u001b[0;36mstep\u001b[0;34m(self, closure)\u001b[0m\n\u001b[1;32m    134\u001b[0m                 \u001b[0mforeach\u001b[0m\u001b[0;34m=\u001b[0m\u001b[0mgroup\u001b[0m\u001b[0;34m[\u001b[0m\u001b[0;34m\"foreach\"\u001b[0m\u001b[0;34m]\u001b[0m\u001b[0;34m,\u001b[0m\u001b[0;34m\u001b[0m\u001b[0;34m\u001b[0m\u001b[0m\n\u001b[1;32m    135\u001b[0m                 \u001b[0mfused\u001b[0m\u001b[0;34m=\u001b[0m\u001b[0mgroup\u001b[0m\u001b[0;34m[\u001b[0m\u001b[0;34m\"fused\"\u001b[0m\u001b[0;34m]\u001b[0m\u001b[0;34m,\u001b[0m\u001b[0;34m\u001b[0m\u001b[0;34m\u001b[0m\u001b[0m\n\u001b[0;32m--> 136\u001b[0;31m                 \u001b[0mgrad_scale\u001b[0m\u001b[0;34m=\u001b[0m\u001b[0mgetattr\u001b[0m\u001b[0;34m(\u001b[0m\u001b[0mself\u001b[0m\u001b[0;34m,\u001b[0m \u001b[0;34m\"grad_scale\"\u001b[0m\u001b[0;34m,\u001b[0m \u001b[0;32mNone\u001b[0m\u001b[0;34m)\u001b[0m\u001b[0;34m,\u001b[0m\u001b[0;34m\u001b[0m\u001b[0;34m\u001b[0m\u001b[0m\n\u001b[0m\u001b[1;32m    137\u001b[0m                 \u001b[0mfound_inf\u001b[0m\u001b[0;34m=\u001b[0m\u001b[0mgetattr\u001b[0m\u001b[0;34m(\u001b[0m\u001b[0mself\u001b[0m\u001b[0;34m,\u001b[0m \u001b[0;34m\"found_inf\"\u001b[0m\u001b[0;34m,\u001b[0m \u001b[0;32mNone\u001b[0m\u001b[0;34m)\u001b[0m\u001b[0;34m,\u001b[0m\u001b[0;34m\u001b[0m\u001b[0;34m\u001b[0m\u001b[0m\n\u001b[1;32m    138\u001b[0m             )\n",
            "\u001b[0;31mKeyboardInterrupt\u001b[0m: "
          ]
        }
      ],
      "source": [
        "for epoch in range(200):  # loop over the dataset multiple times\n",
        "\n",
        "    running_loss = 0.0\n",
        "    for i, data in enumerate(trainloader, 0):\n",
        "        # get the inputs; data is a list of [inputs, labels]\n",
        "        inputs, labels = data\n",
        "        inputs = inputs.to(device)\n",
        "        labels = labels.to(device)\n",
        "\n",
        "        # zero the parameter gradients\n",
        "        euclidean_optimizer.zero_grad()\n",
        "\n",
        "        # forward + backward + optimize\n",
        "        flatten_inputs = torch.flatten(inputs, start_dim=1)\n",
        "        outputs = euclidean_net(flatten_inputs)\n",
        "        loss = criterion(outputs, labels)\n",
        "        loss.backward()\n",
        "        euclidean_optimizer.step()\n",
        "\n",
        "        # print statistics\n",
        "        running_loss += loss.item()\n",
        "        if (epoch % 100) == 0:\n",
        "            if (i % len(trainloader)) == (len(trainloader) - 1):\n",
        "                print(f'[{epoch + 1}, {i + 1:5d}] loss: {running_loss / len(trainloader):.3f}')\n",
        "                running_loss = 0.0\n",
        "                # ================================================================================\n",
        "                correct = 0\n",
        "                total = 0\n",
        "                with torch.no_grad():\n",
        "                    for data in valloader:\n",
        "                        val_images, val_labels = data\n",
        "                        val_images = val_images.to(device)\n",
        "                        val_labels = val_labels.to(device)\n",
        "                        # calculate outputs by running images through the network\n",
        "                        flatten_val_images = torch.flatten(val_images, start_dim=1)\n",
        "                        val_outputs = euclidean_net(flatten_val_images)\n",
        "                        # the class with the highest energy is what we choose as prediction\n",
        "                        _, val_predicted = torch.max(val_outputs.data, 1)\n",
        "                        total += val_labels.size(0)\n",
        "                        correct += (val_predicted == val_labels).sum().item()\n",
        "                print(f'Accuracy of the network on the 10000 val images: {100 * correct // total} %')\n",
        "                # ================================================================================\n",
        "print('Finished Training')"
      ]
    },
    {
      "cell_type": "markdown",
      "metadata": {
        "id": "48PBvQOYURzF"
      },
      "source": [
        "### Hyperbolic training loop"
      ]
    },
    {
      "cell_type": "markdown",
      "metadata": {
        "id": "WzNCI5QyUXAR"
      },
      "source": [
        "Next step is to train the hyperbolic neural network.\n",
        "\n",
        "In addition to the optimizers, there is one more difference between Euclidean and hyperbolic training loops; `Exponential Map`. As the hyperbolic Net expects hyperbolic input, data is projected to the hyperbolic space using `manifold.expmap0(flat_inputs)`.\n"
      ]
    },
    {
      "cell_type": "code",
      "execution_count": null,
      "metadata": {
        "id": "Nck7RTVCUbPJ",
        "scrolled": false
      },
      "outputs": [],
      "source": [
        "import torchvision.models as models\n",
        "import torchvision.transforms as transforms\n",
        "\n",
        "manifold = geoopt.PoincareBall()\n",
        "\n",
        "# # Define a convolutional layer before flattening\n",
        "# conv_layer = nn.Conv2d(in_channels=1, out_channels=16, kernel_size=3, stride=1, padding=1).to(device)\n",
        "# pooling_layer = nn.MaxPool2d(kernel_size=2, stride=2).to(device)  # Max pooling to reduce size\n",
        "\n",
        "# Load ResNet-50 (pretrained or from scratch)\n",
        "resnet = models.resnet50(pretrained=True).to(device)\n",
        "\n",
        "# Remove the final classification layer\n",
        "resnet = nn.Sequential(*list(resnet.children())[:-1]).to(device)  # Removes last FC layer\n",
        "\n",
        "transform = nn.Sequential(\n",
        "    nn.Upsample(size=(224, 224), mode=\"bilinear\", align_corners=False),  # Resize\n",
        "    nn.Conv2d(1, 3, kernel_size=1)  # Convert 1-channel to 3-channel\n",
        ").to(device)\n",
        "\n",
        "\n",
        "for epoch in range(200):  # loop over the dataset multiple times\n",
        "\n",
        "    running_loss = 0.0\n",
        "    for i, data in enumerate(trainloader, 0):\n",
        "        # get the inputs; data is a list of [inputs, labels]\n",
        "        inputs, labels = data\n",
        "        inputs = inputs.to(device)\n",
        "        labels = labels.to(device)\n",
        "\n",
        "        # zero the parameter gradients\n",
        "        hyperbolic_optimizer.zero_grad()\n",
        "\n",
        "        # forward + backward + optimize\n",
        "        # ------------------------------\n",
        "        # Hyperbolic inputs\n",
        "\n",
        "        # Reduce size with Conv layer\n",
        "        # conv_out = conv_layer(inputs)  # Apply convolution\n",
        "        # pooled_out = pooling_layer(conv_out)  # Apply max pooling (optional)\n",
        "\n",
        "        # # flat_inputs = torch.flatten(inputs, start_dim=1)\n",
        "        # flat_inputs = torch.flatten(pooled_out, start_dim=1)\n",
        "\n",
        "        inputs = transform(inputs)\n",
        "\n",
        "        with torch.no_grad():  # Freeze ResNet during training\n",
        "            resnet_out = resnet(inputs)  # Shape: (batch_size, 2048, 1, 1)\n",
        "            resnet_out = resnet_out.view(resnet_out.size(0), -1)\n",
        "\n",
        "        hyp_inputs = manifold.expmap0(resnet_out)\n",
        "        # ------------------------------\n",
        "        outputs = hyperbolic_net(hyp_inputs, manifold)\n",
        "        loss = criterion(outputs, labels)\n",
        "        loss.backward()\n",
        "        hyperbolic_optimizer.step()\n",
        "\n",
        "        # print statistics\n",
        "        running_loss += loss.item()\n",
        "        if (epoch % 10) == 0:\n",
        "            # print statistics\n",
        "            if (i % len(trainloader)) == (len(trainloader) - 1):\n",
        "                print(f'[{epoch + 1}, {i + 1:5d}] loss: {running_loss / len(trainloader):.3f}')\n",
        "                running_loss = 0.0\n",
        "                # ================================================================================\n",
        "                correct = 0\n",
        "                total = 0\n",
        "                with torch.no_grad():\n",
        "                    for data in valloader:\n",
        "                        val_images, val_labels = data\n",
        "\n",
        "                        val_images = val_images.to(device)\n",
        "                        val_labels = val_labels.to(device)\n",
        "\n",
        "                        conv_out = conv_layer(val_images)  # Apply convolution\n",
        "                        pooled_out = pooling_layer(conv_out)  # Apply max pooling (optional)\n",
        "\n",
        "                        # calculate outputs by running images through the network\n",
        "                        flatten_val_images = torch.flatten(pooled_out, start_dim=1)\n",
        "                        hyp_flatten_val_images = manifold.expmap0(flatten_val_images)\n",
        "                        val_outputs = hyperbolic_net(hyp_flatten_val_images, manifold)\n",
        "                        # the class with the highest energy is what we choose as prediction\n",
        "                        _, val_predicted = torch.max(val_outputs.data, 1)\n",
        "                        total += val_labels.size(0)\n",
        "                        correct += (val_predicted == val_labels).sum().item()\n",
        "                print(f'Accuracy of the network on the 10000 val images: {100 * correct // total} %')\n",
        "                # ================================================================================\n",
        "print('Finished Training')"
      ]
    },
    {
      "cell_type": "markdown",
      "metadata": {
        "id": "w9OXEPi9iY9_"
      },
      "source": [
        "### Testing function\n",
        "Once the training loop is complete, it's time to see how the trained Euclidean and hyperbolic models work given the testing split.\n",
        "\n",
        "First, we visualize a batch of test images and the predicted labels given the batch."
      ]
    },
    {
      "cell_type": "code",
      "execution_count": 19,
      "metadata": {
        "id": "6Kx06ie0imNZ",
        "outputId": "6384ad93-2282-4143-8c74-5f0e823eed23",
        "colab": {
          "base_uri": "https://localhost:8080/",
          "height": 199
        }
      },
      "outputs": [
        {
          "output_type": "stream",
          "name": "stderr",
          "text": [
            "WARNING:matplotlib.image:Clipping input data to the valid range for imshow with RGB data ([0..1] for floats or [0..255] for integers). Got range [-0.42421296..2.8214867].\n"
          ]
        },
        {
          "output_type": "display_data",
          "data": {
            "text/plain": [
              "<Figure size 640x480 with 1 Axes>"
            ],
            "image/png": "[encoded data removed]"
          },
          "metadata": {}
        },
        {
          "output_type": "stream",
          "name": "stdout",
          "text": [
            "GroundTruth: 6   7   6   9   4   2   1   3  \n",
            "Euclidean:   6   7   6   9   4   2   1   3  \n",
            "Hyperbolic:  6   7   6   9   4   2   1   3  \n"
          ]
        }
      ],
      "source": [
        "dataiter = iter(testloader)\n",
        "images, labels = next(dataiter)\n",
        "\n",
        "flatten_images = torch.flatten(images, start_dim=1).to(device)\n",
        "# ======================================\n",
        "outputs = euclidean_net(flatten_images)\n",
        "_, euclidean_predicted = torch.max(outputs, 1)\n",
        "# ======================================\n",
        "hyp_inputs = manifold.expmap0(flatten_images)\n",
        "outputs = hyperbolic_net(hyp_inputs, manifold)\n",
        "_, hyperbolic_predicted = torch.max(outputs, 1)\n",
        "\n",
        "# print images\n",
        "imshow(torchvision.utils.make_grid(images))\n",
        "print('GroundTruth:', ' '.join(f'{classes_num[labels[j]]:3s}' for j in range(8)))\n",
        "print('Euclidean:  ', ' '.join(f'{classes_num[euclidean_predicted[j]]:3s}' for j in range(8)))\n",
        "print('Hyperbolic: ', ' '.join(f'{classes_num[hyperbolic_predicted[j]]:3s}' for j in range(8)))"
      ]
    },
    {
      "cell_type": "code",
      "execution_count": 20,
      "metadata": {
        "id": "zLiCZMRHzlj0",
        "outputId": "564c72ec-b320-4118-86f2-306a05e90a7f",
        "colab": {
          "base_uri": "https://localhost:8080/"
        }
      },
      "outputs": [
        {
          "output_type": "stream",
          "name": "stdout",
          "text": [
            "Accuracy of the Euclidean network on the 10000 test images: 97 %\n",
            "Accuracy of the Hyperbolic network on the 10000 test images: 96 %\n"
          ]
        }
      ],
      "source": [
        "# Test dataset - downloading and loading the testing dataset.\n",
        "testset = torchvision.datasets.MNIST(root=DATA_PATH, train=False, download=True, transform=transform)\n",
        "testset_small, _ = torch.utils.data.random_split(main_trainset, [30000, 30000], generator=torch.Generator().manual_seed(42))\n",
        "\n",
        "# Create dataloaders for the train, val and test sets\n",
        "batch_size = 8\n",
        "testloader = torch.utils.data.DataLoader(testset_small, batch_size=batch_size, shuffle=False, num_workers=2)\n",
        "# testloader = torch.utils.data.DataLoader(testset, batch_size=batch_size, shuffle=False, num_workers=2)\n",
        "\n",
        "euclidean_correct = 0\n",
        "hyperbolic_correct = 0\n",
        "total = 0\n",
        "# since we're not training, we don't need to calculate the gradients for our outputs\n",
        "with torch.no_grad():\n",
        "    for data in testloader:\n",
        "        images, labels = data\n",
        "        images = images.to(device)\n",
        "        labels = labels.to(device)\n",
        "        # calculate outputs by running images through the network\n",
        "        flatten_images = torch.flatten(images, start_dim=1)\n",
        "\n",
        "        euclidean_outputs = euclidean_net(flatten_images)\n",
        "        # ======================================\n",
        "        hyp_inputs = manifold.expmap0(flatten_images)\n",
        "        hyperbolic_outputs = hyperbolic_net(hyp_inputs, manifold)\n",
        "\n",
        "        # the class with the highest energy is what we choose as prediction\n",
        "        _, euclidean_predicted = torch.max(euclidean_outputs.data, 1)\n",
        "        _, hyperbolic_predicted = torch.max(hyperbolic_outputs.data, 1)\n",
        "        total += labels.size(0)\n",
        "\n",
        "        euclidean_correct += (euclidean_predicted == labels).sum().item()\n",
        "        hyperbolic_correct += (hyperbolic_predicted == labels).sum().item()\n",
        "\n",
        "print(f'Accuracy of the Euclidean network on the 10000 test images: {100 * euclidean_correct // total} %')\n",
        "print(f'Accuracy of the Hyperbolic network on the 10000 test images: {100 * hyperbolic_correct // total} %')"
      ]
    }
  ],
  "metadata": {
    "accelerator": "GPU",
    "colab": {
      "provenance": []
    },
    "gpuClass": "standard",
    "kernelspec": {
      "display_name": "Python 3",
      "language": "python",
      "name": "python3"
    },
    "language_info": {
      "codemirror_mode": {
        "name": "ipython",
        "version": 3
      },
      "file_extension": ".py",
      "mimetype": "text/x-python",
      "name": "python",
      "nbconvert_exporter": "python",
      "pygments_lexer": "ipython3",
      "version": "3.7.13"
    }
  },
  "nbformat": 4,
  "nbformat_minor": 0
}